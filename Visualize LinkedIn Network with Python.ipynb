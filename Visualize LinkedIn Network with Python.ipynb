{
 "cells": [
  {
   "cell_type": "markdown",
   "id": "6ee8a7b0",
   "metadata": {},
   "source": [
    "# Visualize LinkedIn Network with Python\n",
    "Name: Yaqi Gong, Bing Li"
   ]
  },
  {
   "cell_type": "markdown",
   "id": "52a29ccb",
   "metadata": {},
   "source": [
    "On LinkedIn, we can only see our contact list, and it is difficult to visualize our entire network of contacts. Next, let's try to visualize our LinkedIn contact network and see what our connections look like.\n",
    "And in the Network we created, where the number of companies corresponds to the size of the node. For example, if you connect with a large number of people who work at SAP, the SAP node will be large."
   ]
  },
  {
   "cell_type": "markdown",
   "id": "dd9ea286",
   "metadata": {},
   "source": [
    "## 1. Download dataset.\n",
    "Here’s a step for getting a copy of your data on LinkedIn:\n",
    "\n",
    "In the homepage, click on “Me”-“Settings & Privacy”- “Data Privacy”-“Get a copy of your data”-click \"Connections\"\n"
   ]
  },
  {
   "cell_type": "code",
   "execution_count": 1,
   "id": "ce905e1c",
   "metadata": {},
   "outputs": [
    {
     "name": "stderr",
     "output_type": "stream",
     "text": [
      "/var/folders/x8/xq3t69xx1pj8c92rpv1tyfk40000gn/T/ipykernel_22284/581041841.py:5: DeprecationWarning: Importing display from IPython.core.display is deprecated since IPython 7.14, please import from IPython display\n",
      "  from IPython.core.display import display, HTML\n"
     ]
    }
   ],
   "source": [
    "import pandas as pd  #python data analysis library\n",
    "import janitor #a python tool for data cleaning\n",
    "import datetime # The datetime module provides classes for manipulating dates and times.\n",
    "\n",
    "from IPython.core.display import display, HTML\n",
    "from pyvis import network as net #Visualizing network graph\n",
    "import networkx as nx \n",
    "\n"
   ]
  },
  {
   "cell_type": "markdown",
   "id": "f6e8970a",
   "metadata": {},
   "source": [
    "## 2. Load data"
   ]
  },
  {
   "cell_type": "code",
   "execution_count": 2,
   "id": "5c8c88bd",
   "metadata": {
    "scrolled": true
   },
   "outputs": [
    {
     "name": "stdout",
     "output_type": "stream",
     "text": [
      "<class 'pandas.core.frame.DataFrame'>\n",
      "RangeIndex: 155 entries, 0 to 154\n",
      "Data columns (total 6 columns):\n",
      " #   Column         Non-Null Count  Dtype \n",
      "---  ------         --------------  ----- \n",
      " 0   First Name     153 non-null    object\n",
      " 1   Last Name      153 non-null    object\n",
      " 2   Email Address  4 non-null      object\n",
      " 3   Company        139 non-null    object\n",
      " 4   Position       139 non-null    object\n",
      " 5   Connected On   155 non-null    object\n",
      "dtypes: object(6)\n",
      "memory usage: 7.4+ KB\n"
     ]
    }
   ],
   "source": [
    "#skiprows = 2 means read starting from line3, since we don't need the first 2 rows\n",
    "df_ori = pd.read_csv(\"/Users/gongyaqi/Downloads/Connections.csv\", skiprows=2)\n",
    "df_ori.info()"
   ]
  },
  {
   "cell_type": "markdown",
   "id": "a9d54502",
   "metadata": {},
   "source": [
    "Use \"df_ori.info()\" to print the information of the data, there is 155 conections in total."
   ]
  },
  {
   "cell_type": "markdown",
   "id": "b04135c4",
   "metadata": {},
   "source": [
    "## 3.  Data cleaning\n",
    " Do the data cleaning with janitor library.  \n",
    "In order to generate the network, we must organize the data into a unified form. In this way, the data will become easier to process, and we can more accurately calculate the number of Connections for each company or position. So  what we basically do are: cleaning the column names, dropping columns, removing missing values, and converting the date column to DateTime format."
   ]
  },
  {
   "cell_type": "code",
   "execution_count": 3,
   "id": "34a6ef5f",
   "metadata": {},
   "outputs": [
    {
     "data": {
      "text/html": [
       "<div>\n",
       "<style scoped>\n",
       "    .dataframe tbody tr th:only-of-type {\n",
       "        vertical-align: middle;\n",
       "    }\n",
       "\n",
       "    .dataframe tbody tr th {\n",
       "        vertical-align: top;\n",
       "    }\n",
       "\n",
       "    .dataframe thead th {\n",
       "        text-align: right;\n",
       "    }\n",
       "</style>\n",
       "<table border=\"1\" class=\"dataframe\">\n",
       "  <thead>\n",
       "    <tr style=\"text-align: right;\">\n",
       "      <th></th>\n",
       "      <th>company</th>\n",
       "      <th>position</th>\n",
       "      <th>connected_on</th>\n",
       "    </tr>\n",
       "  </thead>\n",
       "  <tbody>\n",
       "    <tr>\n",
       "      <th>0</th>\n",
       "      <td>NEC Laboratories Europe GmbH</td>\n",
       "      <td>Research Theme Coordinator</td>\n",
       "      <td>2023-05-03</td>\n",
       "    </tr>\n",
       "    <tr>\n",
       "      <th>1</th>\n",
       "      <td>Shanghai Teneb International Co., Ltd</td>\n",
       "      <td>Head of Sales and Business Development</td>\n",
       "      <td>2023-05-03</td>\n",
       "    </tr>\n",
       "    <tr>\n",
       "      <th>2</th>\n",
       "      <td>Integration International Inc.</td>\n",
       "      <td>Technical Consultant</td>\n",
       "      <td>2023-05-03</td>\n",
       "    </tr>\n",
       "    <tr>\n",
       "      <th>3</th>\n",
       "      <td>Claimer</td>\n",
       "      <td>Software Consultant (R&amp;D Tax Credit)</td>\n",
       "      <td>2023-05-02</td>\n",
       "    </tr>\n",
       "    <tr>\n",
       "      <th>4</th>\n",
       "      <td>Clarusway</td>\n",
       "      <td>AWS Cloud Solutions Architect and Devops Engineer</td>\n",
       "      <td>2023-04-27</td>\n",
       "    </tr>\n",
       "  </tbody>\n",
       "</table>\n",
       "</div>"
      ],
      "text/plain": [
       "                                 company  \\\n",
       "0           NEC Laboratories Europe GmbH   \n",
       "1  Shanghai Teneb International Co., Ltd   \n",
       "2         Integration International Inc.   \n",
       "3                               Claimer    \n",
       "4                              Clarusway   \n",
       "\n",
       "                                            position connected_on  \n",
       "0                         Research Theme Coordinator   2023-05-03  \n",
       "1             Head of Sales and Business Development   2023-05-03  \n",
       "2                               Technical Consultant   2023-05-03  \n",
       "3               Software Consultant (R&D Tax Credit)   2023-05-02  \n",
       "4  AWS Cloud Solutions Architect and Devops Engineer   2023-04-27  "
      ]
     },
     "execution_count": 3,
     "metadata": {},
     "output_type": "execute_result"
    }
   ],
   "source": [
    "df = (\n",
    "    df_ori\n",
    "    .clean_names() # remove spacing and capitalization from column names\n",
    "    .drop(columns=['first_name', 'last_name', 'email_address']) # drop for privacy,\n",
    "    # It removes these columns for privacy reasons or because they are not required \n",
    "    #for further analysis.\n",
    "    .dropna(subset=['company', 'position']) # drop missing values in company \n",
    "    #and position\n",
    "    #This code drops rows from the DataFrame where either the 'company' or \n",
    "    #'position' columns have missing values (NaN).\n",
    "    # It ensures that the remaining data has values for these important columns.\n",
    "    .to_datetime('connected_on', format='%d %b %Y')\n",
    "    #This line converts the 'connected_on' column to a datetime format\n",
    "  )\n",
    "df.head()"
   ]
  },
  {
   "cell_type": "markdown",
   "id": "98fd2850",
   "metadata": {},
   "source": [
    "## 4. Simple visulization using pandas"
   ]
  },
  {
   "cell_type": "markdown",
   "id": "bafd6e11",
   "metadata": {},
   "source": [
    "We show the top 10 companies with the most connections. Very intuitive and clear at a glance."
   ]
  },
  {
   "cell_type": "code",
   "execution_count": 4,
   "id": "2bb8e05e",
   "metadata": {},
   "outputs": [
    {
     "data": {
      "image/png": "[encoded data removed]",
      "text/plain": [
       "<Figure size 432x288 with 1 Axes>"
      ]
     },
     "metadata": {
      "needs_background": "light"
     },
     "output_type": "display_data"
    }
   ],
   "source": [
    "df['company'].value_counts().head(10).plot(kind=\"barh\").invert_yaxis();"
   ]
  },
  {
   "cell_type": "markdown",
   "id": "5fd906f0",
   "metadata": {},
   "source": [
    "Similarly, we show the top 10 positions with the most connections"
   ]
  },
  {
   "cell_type": "code",
   "execution_count": 5,
   "id": "ca18cabb",
   "metadata": {},
   "outputs": [
    {
     "data": {
      "image/png": "[encoded data removed]",
      "text/plain": [
       "<Figure size 432x288 with 1 Axes>"
      ]
     },
     "metadata": {
      "needs_background": "light"
     },
     "output_type": "display_data"
    }
   ],
   "source": [
    "df['position'].value_counts().head(10).plot(kind=\"barh\").invert_yaxis();"
   ]
  },
  {
   "cell_type": "markdown",
   "id": "f75462be",
   "metadata": {},
   "source": [
    "‘xrot=35’ This parameter rotates the x-axis labels by 30 degrees. It can be useful when the x-axis labels are long and overlapping, making them difficult to read."
   ]
  },
  {
   "cell_type": "markdown",
   "id": "5db938ef",
   "metadata": {},
   "source": [
    "Plotting the date of the connections. It seems that, 2022-3 to 2022-04 and 2023-1 to 2023-2, there are most connections.Maybe a job finding period is going through."
   ]
  },
  {
   "cell_type": "code",
   "execution_count": 6,
   "id": "c1820ba9",
   "metadata": {},
   "outputs": [
    {
     "data": {
      "image/png": "[encoded data removed]",
      "text/plain": [
       "<Figure size 432x288 with 1 Axes>"
      ]
     },
     "metadata": {
      "needs_background": "light"
     },
     "output_type": "display_data"
    }
   ],
   "source": [
    "df['connected_on'].hist(xrot=30, bins=15);\n",
    "# bins = 15,this parameter specifies the number \n",
    "#of intervals to use for the histogram"
   ]
  },
  {
   "cell_type": "markdown",
   "id": "2333daa2",
   "metadata": {},
   "source": [
    "## 5. Aggregate position and connection columns"
   ]
  },
  {
   "cell_type": "markdown",
   "id": "778cb776",
   "metadata": {},
   "source": [
    "We count the number of connections I have with each of these companies separately"
   ]
  },
  {
   "cell_type": "code",
   "execution_count": 7,
   "id": "0db2cb74",
   "metadata": {},
   "outputs": [
    {
     "data": {
      "text/html": [
       "<div>\n",
       "<style scoped>\n",
       "    .dataframe tbody tr th:only-of-type {\n",
       "        vertical-align: middle;\n",
       "    }\n",
       "\n",
       "    .dataframe tbody tr th {\n",
       "        vertical-align: top;\n",
       "    }\n",
       "\n",
       "    .dataframe thead th {\n",
       "        text-align: right;\n",
       "    }\n",
       "</style>\n",
       "<table border=\"1\" class=\"dataframe\">\n",
       "  <thead>\n",
       "    <tr style=\"text-align: right;\">\n",
       "      <th></th>\n",
       "      <th>company</th>\n",
       "      <th>count</th>\n",
       "    </tr>\n",
       "  </thead>\n",
       "  <tbody>\n",
       "    <tr>\n",
       "      <th>0</th>\n",
       "      <td>Bosch</td>\n",
       "      <td>7</td>\n",
       "    </tr>\n",
       "    <tr>\n",
       "      <th>1</th>\n",
       "      <td>Heidelberg University</td>\n",
       "      <td>6</td>\n",
       "    </tr>\n",
       "    <tr>\n",
       "      <th>2</th>\n",
       "      <td>Fraunhofer IPA</td>\n",
       "      <td>5</td>\n",
       "    </tr>\n",
       "    <tr>\n",
       "      <th>3</th>\n",
       "      <td>SAP</td>\n",
       "      <td>5</td>\n",
       "    </tr>\n",
       "    <tr>\n",
       "      <th>4</th>\n",
       "      <td>NEC Laboratories Europe GmbH</td>\n",
       "      <td>4</td>\n",
       "    </tr>\n",
       "    <tr>\n",
       "      <th>5</th>\n",
       "      <td>Ruprecht-Karls-Universität Heidelberg</td>\n",
       "      <td>3</td>\n",
       "    </tr>\n",
       "    <tr>\n",
       "      <th>6</th>\n",
       "      <td>Bosch Center for Artificial Intelligence (BCAI)</td>\n",
       "      <td>3</td>\n",
       "    </tr>\n",
       "    <tr>\n",
       "      <th>7</th>\n",
       "      <td>University of Stuttgart</td>\n",
       "      <td>2</td>\n",
       "    </tr>\n",
       "    <tr>\n",
       "      <th>8</th>\n",
       "      <td>SURU – Part of LIXIL</td>\n",
       "      <td>2</td>\n",
       "    </tr>\n",
       "    <tr>\n",
       "      <th>9</th>\n",
       "      <td>IBM</td>\n",
       "      <td>2</td>\n",
       "    </tr>\n",
       "  </tbody>\n",
       "</table>\n",
       "</div>"
      ],
      "text/plain": [
       "                                           company  count\n",
       "0                                            Bosch      7\n",
       "1                            Heidelberg University      6\n",
       "2                                   Fraunhofer IPA      5\n",
       "3                                              SAP      5\n",
       "4                     NEC Laboratories Europe GmbH      4\n",
       "5            Ruprecht-Karls-Universität Heidelberg      3\n",
       "6  Bosch Center for Artificial Intelligence (BCAI)      3\n",
       "7                          University of Stuttgart      2\n",
       "8                             SURU – Part of LIXIL      2\n",
       "9                                              IBM      2"
      ]
     },
     "execution_count": 7,
     "metadata": {},
     "output_type": "execute_result"
    }
   ],
   "source": [
    "df_company = df['company'].value_counts().reset_index()\n",
    "df_company.columns = ['company', 'count']\n",
    "df_company = df_company.sort_values(by=\"count\", ascending=False)\n",
    "df_company.head(10)"
   ]
  },
  {
   "cell_type": "code",
   "execution_count": 8,
   "id": "3c15b934",
   "metadata": {},
   "outputs": [
    {
     "data": {
      "text/html": [
       "<div>\n",
       "<style scoped>\n",
       "    .dataframe tbody tr th:only-of-type {\n",
       "        vertical-align: middle;\n",
       "    }\n",
       "\n",
       "    .dataframe tbody tr th {\n",
       "        vertical-align: top;\n",
       "    }\n",
       "\n",
       "    .dataframe thead th {\n",
       "        text-align: right;\n",
       "    }\n",
       "</style>\n",
       "<table border=\"1\" class=\"dataframe\">\n",
       "  <thead>\n",
       "    <tr style=\"text-align: right;\">\n",
       "      <th></th>\n",
       "      <th>position</th>\n",
       "      <th>count</th>\n",
       "    </tr>\n",
       "  </thead>\n",
       "  <tbody>\n",
       "    <tr>\n",
       "      <th>0</th>\n",
       "      <td>Working Student</td>\n",
       "      <td>5</td>\n",
       "    </tr>\n",
       "    <tr>\n",
       "      <th>2</th>\n",
       "      <td>Werkstudent</td>\n",
       "      <td>4</td>\n",
       "    </tr>\n",
       "    <tr>\n",
       "      <th>3</th>\n",
       "      <td>Student Research Assistant</td>\n",
       "      <td>4</td>\n",
       "    </tr>\n",
       "    <tr>\n",
       "      <th>1</th>\n",
       "      <td>Data Scientist</td>\n",
       "      <td>4</td>\n",
       "    </tr>\n",
       "    <tr>\n",
       "      <th>4</th>\n",
       "      <td>Intern</td>\n",
       "      <td>3</td>\n",
       "    </tr>\n",
       "    <tr>\n",
       "      <th>5</th>\n",
       "      <td>Professor</td>\n",
       "      <td>3</td>\n",
       "    </tr>\n",
       "    <tr>\n",
       "      <th>6</th>\n",
       "      <td>Software Engineer</td>\n",
       "      <td>3</td>\n",
       "    </tr>\n",
       "    <tr>\n",
       "      <th>7</th>\n",
       "      <td>Master Thesis Student</td>\n",
       "      <td>3</td>\n",
       "    </tr>\n",
       "    <tr>\n",
       "      <th>10</th>\n",
       "      <td>Business Analyst</td>\n",
       "      <td>2</td>\n",
       "    </tr>\n",
       "    <tr>\n",
       "      <th>11</th>\n",
       "      <td>Research Assistant</td>\n",
       "      <td>2</td>\n",
       "    </tr>\n",
       "  </tbody>\n",
       "</table>\n",
       "</div>"
      ],
      "text/plain": [
       "                      position  count\n",
       "0              Working Student      5\n",
       "2                  Werkstudent      4\n",
       "3   Student Research Assistant      4\n",
       "1               Data Scientist      4\n",
       "4                       Intern      3\n",
       "5                    Professor      3\n",
       "6            Software Engineer      3\n",
       "7        Master Thesis Student      3\n",
       "10            Business Analyst      2\n",
       "11          Research Assistant      2"
      ]
     },
     "execution_count": 8,
     "metadata": {},
     "output_type": "execute_result"
    }
   ],
   "source": [
    "df_position = df['position'].value_counts().reset_index()\n",
    "df_position.columns = ['position', 'count']\n",
    "df_position = df_position.sort_values(by=\"count\", ascending=False)\n",
    "df_position.head(10)"
   ]
  },
  {
   "cell_type": "markdown",
   "id": "ee79f1dc",
   "metadata": {},
   "source": [
    "## 6. Creating the network\n",
    "For creating the network, we use PyVis and networkX."
   ]
  },
  {
   "cell_type": "code",
   "execution_count": 15,
   "id": "bfae28ba",
   "metadata": {},
   "outputs": [
    {
     "name": "stdout",
     "output_type": "stream",
     "text": [
      "(109, 2)\n",
      "(11, 2)\n"
     ]
    }
   ],
   "source": [
    "print(df_company.shape)\n",
    "df_company_reduced = df_company.loc[df_company['count']>=2]\n",
    "print(df_company_reduced.shape)"
   ]
  },
  {
   "cell_type": "code",
   "execution_count": 9,
   "id": "37d6a89d",
   "metadata": {},
   "outputs": [
    {
     "name": "stdout",
     "output_type": "stream",
     "text": [
      "(114, 2)\n",
      "(12, 2)\n"
     ]
    }
   ],
   "source": [
    "print(df_position.shape)\n",
    "df_position_reduced = df_position.loc[df_position['count']>=2]\n",
    "print(df_position_reduced.shape)"
   ]
  },
  {
   "cell_type": "code",
   "execution_count": 19,
   "id": "58488056",
   "metadata": {
    "scrolled": false
   },
   "outputs": [
    {
     "name": "stdout",
     "output_type": "stream",
     "text": [
      "company_graph.html\n"
     ]
    },
    {
     "data": {
      "text/html": [
       "\n",
       "        <iframe\n",
       "            width=\"900px\"\n",
       "            height=\"900px\"\n",
       "            src=\"company_graph.html\"\n",
       "            frameborder=\"0\"\n",
       "            allowfullscreen\n",
       "            \n",
       "        ></iframe>\n",
       "        "
      ],
      "text/plain": [
       "<IPython.lib.display.IFrame at 0x7fb2b316aca0>"
      ]
     },
     "execution_count": 19,
     "metadata": {},
     "output_type": "execute_result"
    }
   ],
   "source": [
    "# initialize graph\n",
    "g = nx.Graph()  #Initialized a graph object using the NetworkX library\n",
    "g.add_node('Me') #Adds a node with the label 'Me' to the graph. \n",
    "#This represents myself as the central node.\n",
    "\n",
    "# enters a loop that iterates through each row in the df_company DataFrame.\n",
    "# row represents the current row being iterated.\n",
    "for _, row in df_company.iterrows():\n",
    "\n",
    "  #extracts the value of the 'company' column from the current row and\n",
    "  #assigns it to the variable company.\n",
    "  company = row['company']\n",
    "\n",
    "  # extracts the value of the 'count' column from the current row and\n",
    "  # assigns it to the variable count.\n",
    "  count = row['count']\n",
    "    \n",
    "  # creates a string variable title that contains the \n",
    "  # HTML-formatted company name (bold) followed by a hyphen and the count value.\n",
    "  title = f\"<b>{company}</b> – {count}\"\n",
    "\n",
    "  #This line filters the DataFrame df to select rows where the 'company' column matches \n",
    "  #the current company. It then extracts the values from the 'position' column \n",
    "  #for those rows and creates a set of unique positions.\n",
    "  #The positions are stored in the variable positions.\n",
    "  positions = set([x for x in df[company == df['company']]['position']])\n",
    "    \n",
    "  # creates an HTML-formatted string positions by joining each\n",
    "#position in the positions set \n",
    "  positions = ''.join('<li>{}</li>'.format(x) for x in positions)\n",
    "    \n",
    "  # creates an HTML-formatted string position_list by wrapping the positions string\n",
    "  # with an unordered list tag \n",
    "  position_list = f\"<ul>{positions}</ul>\"\n",
    "    \n",
    "  # concatenates the title and position_list strings to create a string hover_info that \n",
    "  # contains the company title and the list of positions.\n",
    "  hover_info = title + position_list\n",
    "    \n",
    "  #This line adds a new node to the graph with the label company. \n",
    "  #The node is assigned a size based on the count value multiplied by 10. \n",
    "  #It also includes a title attribute with the hover_info string and a color \n",
    "#attribute set to '#3449eb'.\n",
    "  g.add_node(company, size=count*10, title=hover_info, color='green')\n",
    "    \n",
    "  # This line adds an edge between the 'Me' node and the current company node. \n",
    "  # The edge is assigned a color of 'white'.    \n",
    "  g.add_edge('Me', company, color='black')\n",
    "\n",
    "# generate the graph\n",
    "# initializes a Network object nt for visualization using the net.Network class.\n",
    "nt = net.Network(notebook=True,height='900px', width='900px', bgcolor=\"white\", \n",
    "                 font_color='blue',cdn_resources='remote')\n",
    "\n",
    "# converts the NetworkX graph g into a format that can be visualized by the Network \n",
    "#object nt.\n",
    "nt.from_nx(g)\n",
    "\n",
    "#applies the H-Repulsion layout algorithm to the graph to arrange the nodes in a \n",
    "#visually pleasing manner.\n",
    "nt.hrepulsion()\n",
    "\n",
    "nt.show('company_graph.html')\n",
    "#display(HTML('company_graph.html'))"
   ]
  },
  {
   "cell_type": "markdown",
   "id": "c011a64f",
   "metadata": {},
   "source": [
    "We generate a new data set named \"df_company_reduced\", in which there are only entries with a connection number greater than 2.In this way, the network won't be too complex."
   ]
  },
  {
   "cell_type": "code",
   "execution_count": 20,
   "id": "536394a4",
   "metadata": {},
   "outputs": [
    {
     "name": "stdout",
     "output_type": "stream",
     "text": [
      "company_graph_reduced.html\n"
     ]
    },
    {
     "data": {
      "text/html": [
       "\n",
       "        <iframe\n",
       "            width=\"900px\"\n",
       "            height=\"900px\"\n",
       "            src=\"company_graph_reduced.html\"\n",
       "            frameborder=\"0\"\n",
       "            allowfullscreen\n",
       "            \n",
       "        ></iframe>\n",
       "        "
      ],
      "text/plain": [
       "<IPython.lib.display.IFrame at 0x7fb2b1db5a90>"
      ]
     },
     "execution_count": 20,
     "metadata": {},
     "output_type": "execute_result"
    }
   ],
   "source": [
    "\n",
    "g = nx.Graph()\n",
    "g.add_node('Me') \n",
    "\n",
    "\n",
    "for _, row in df_company_reduced.iterrows():\n",
    "\n",
    " \n",
    "  company = row['company']\n",
    "  count = row['count']\n",
    "\n",
    "\n",
    "  title = f\"<b>{company}</b> – {count}\"\n",
    "  positions = set([x for x in df[company == df['company']]['position']])\n",
    "  positions = ''.join('<li>{}</li>'.format(x) for x in positions)\n",
    "\n",
    "  position_list = f\"<ul>{positions}</ul>\"\n",
    "  hover_info = title + position_list\n",
    "\n",
    "  g.add_node(company, size=count*10, title=hover_info, color='green')\n",
    "  g.add_edge('Me', company, color='black')\n",
    "\n",
    "\n",
    "nt = net.Network(notebook=True,height='900px', width='900px', bgcolor=\"white\", font_color='blue',cdn_resources='remote')\n",
    "nt.from_nx(g)\n",
    "nt.hrepulsion()\n",
    "\n",
    "nt.show('company_graph_reduced.html')\n",
    "#display(HTML('company_graph_reduced.html'))"
   ]
  },
  {
   "cell_type": "markdown",
   "id": "35fee9c8",
   "metadata": {},
   "source": [
    "We generate the network of positions"
   ]
  },
  {
   "cell_type": "code",
   "execution_count": 21,
   "id": "e48cf0ee",
   "metadata": {},
   "outputs": [
    {
     "name": "stdout",
     "output_type": "stream",
     "text": [
      "position_graph.html\n"
     ]
    },
    {
     "data": {
      "text/html": [
       "\n",
       "        <iframe\n",
       "            width=\"900px\"\n",
       "            height=\"900px\"\n",
       "            src=\"position_graph.html\"\n",
       "            frameborder=\"0\"\n",
       "            allowfullscreen\n",
       "            \n",
       "        ></iframe>\n",
       "        "
      ],
      "text/plain": [
       "<IPython.lib.display.IFrame at 0x7fb2902c7220>"
      ]
     },
     "execution_count": 21,
     "metadata": {},
     "output_type": "execute_result"
    }
   ],
   "source": [
    "\n",
    "g = nx.Graph()\n",
    "g.add_node('Me') \n",
    "\n",
    "\n",
    "for _, row in df_position.iterrows():\n",
    "\n",
    "\n",
    "  position = row['position']\n",
    "  count = row['count']\n",
    "\n",
    "\n",
    "  title = f\"<b>{position}</b> – {count}\"\n",
    "  positions = set([x for x in df[company == df['company']]['position']])\n",
    "  positions = ''.join('<li>{}</li>'.format(x) for x in positions)\n",
    "\n",
    "  position_list = f\"<ul>{positions}</ul>\"\n",
    "  hover_info = title + position_list\n",
    "\n",
    "  g.add_node(position, size=count*10, title=hover_info, color='green')\n",
    "  g.add_edge('Me', position, color='black')\n",
    "\n",
    "\n",
    "nt = net.Network(notebook=True,height='900px', width='900px', bgcolor=\"white\", font_color='blue',cdn_resources='remote')\n",
    "nt.from_nx(g)\n",
    "nt.hrepulsion()\n",
    "\n",
    "nt.show('position_graph.html')\n",
    "#display(HTML('position_graph.html'))"
   ]
  },
  {
   "cell_type": "markdown",
   "id": "03e96ab0",
   "metadata": {},
   "source": [
    "Similarly, we generate a new data set named \"df_position_reduced\", in which there are only entries with a connection number greater than 2.In this way, the network won't be too complex."
   ]
  },
  {
   "cell_type": "code",
   "execution_count": 22,
   "id": "01a45092",
   "metadata": {
    "scrolled": false
   },
   "outputs": [
    {
     "name": "stdout",
     "output_type": "stream",
     "text": [
      "position_graph_reduced.html\n"
     ]
    },
    {
     "data": {
      "text/html": [
       "\n",
       "        <iframe\n",
       "            width=\"900px\"\n",
       "            height=\"900px\"\n",
       "            src=\"position_graph_reduced.html\"\n",
       "            frameborder=\"0\"\n",
       "            allowfullscreen\n",
       "            \n",
       "        ></iframe>\n",
       "        "
      ],
      "text/plain": [
       "<IPython.lib.display.IFrame at 0x7fb29029d8b0>"
      ]
     },
     "execution_count": 22,
     "metadata": {},
     "output_type": "execute_result"
    }
   ],
   "source": [
    "\n",
    "g = nx.Graph()\n",
    "g.add_node('Me') \n",
    "\n",
    "\n",
    "for _, row in df_position_reduced.iterrows():\n",
    "\n",
    "\n",
    "  position = row['position']\n",
    "  count = row['count']\n",
    "\n",
    "\n",
    "  title = f\"<b>{position}</b> – {count}\"\n",
    "  positions = set([x for x in df[company == df['company']]['position']])\n",
    "  positions = ''.join('<li>{}</li>'.format(x) for x in positions)\n",
    "\n",
    "  position_list = f\"<ul>{positions}</ul>\"\n",
    "  hover_info = title + position_list\n",
    "\n",
    "  g.add_node(position, size=count*10, title=hover_info, color='green')\n",
    "  g.add_edge('Me', position, color='black')\n",
    "\n",
    "\n",
    "nt = net.Network(notebook=True,height='900px', width='900px', bgcolor=\"white\", font_color='blue',cdn_resources='remote')\n",
    "nt.from_nx(g)\n",
    "nt.hrepulsion()\n",
    "\n",
    "nt.show('position_graph_reduced.html')\n",
    "#display(HTML('position_graph_reduced.html'))"
   ]
  },
  {
   "cell_type": "markdown",
   "id": "f72a102b",
   "metadata": {},
   "source": [
    "References: \n",
    "1. https://medium.com/bitgrit-data-science-publication/visualize-your-linkedin-network-with-python-59a213786c4\n",
    "2. https://pandas.pydata.org/\n",
    "3. https://pyvis.readthedocs.io/en/latest/tutorial.html\n",
    "4. https://networkx.org/\n",
    "5. https://socnetv.org/\n"
   ]
  }
 ],
 "metadata": {
  "kernelspec": {
   "display_name": "Python 3 (ipykernel)",
   "language": "python",
   "name": "python3"
  },
  "language_info": {
   "codemirror_mode": {
    "name": "ipython",
    "version": 3
   },
   "file_extension": ".py",
   "mimetype": "text/x-python",
   "name": "python",
   "nbconvert_exporter": "python",
   "pygments_lexer": "ipython3",
   "version": "3.9.12"
  }
 },
 "nbformat": 4,
 "nbformat_minor": 5
}
